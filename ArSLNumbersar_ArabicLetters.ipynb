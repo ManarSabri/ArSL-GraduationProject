{
  "metadata": {
    "colab": {
      "provenance": []
    },
    "kernelspec": {
      "name": "python3",
      "display_name": "Python 3"
    },
    "language_info": {
      "name": "python"
    },
    "accelerator": "TPU"
  },
  "nbformat_minor": 0,
  "nbformat": 4,
  "cells": [
    {
      "cell_type": "markdown",
      "source": [
        "<a id=\"2\"></a>\n",
        "<h2 style=\"color:#ccb2d3;font-size:55px;font-family:Georgia;text-align:center;\"><strong> <strong style=\"color:black;font-size:50px;font-family:Georgia;\">Introduction </strong></strong></h2>\n",
        "\n",
        "\n",
        "<p style= \"background-color:#f6f6f6;font-family:Georgia;color:##b8e1f0;font-size:110%;text-align:center;border-radius:10px 10px;border-style: dotted;border-width:5px;border-color:##b8e1f0;\">\n",
        "    <b><br>\n",
        "<br>\n",
        "In the pursuit of enhancing communication for the Arabic-speaking deaf community, we have embarked on an Arabic Sign Language recognition AI project. This project leverages a comprehensive dataset encompassing 190 distinct classes of signs, which include numbers, letters, words, and verbs. For the initial phase, we focus on recognizing 90 classes comprising numbers and letters only. By employing a Bidirectional Long Short-Term Memory (BiLSTM) model, our aim is to accurately interpret these signs, thereby laying a robust foundation for future expansion to encompass a broader range of vocabulary in Arabic Sign Language.<br>\n",
        "    \n",
        "    "
      ],
      "metadata": {
        "id": "ZZHTEsEr5XyO"
      }
    },
    {
      "cell_type": "code",
      "source": [
        "!pip install mediapipe"
      ],
      "metadata": {
        "execution": {
          "iopub.execute_input": "2023-06-11T13:30:54.988101Z",
          "iopub.status.busy": "2023-06-11T13:30:54.987736Z",
          "iopub.status.idle": "2023-06-11T13:31:20.750219Z",
          "shell.execute_reply": "2023-06-11T13:31:20.748954Z"
        },
        "papermill": {
          "duration": 25.776502,
          "end_time": "2023-06-11T13:31:20.752940",
          "exception": false,
          "start_time": "2023-06-11T13:30:54.976438",
          "status": "completed"
        },
        "tags": [],
        "id": "9335fe73"
      },
      "execution_count": null,
      "outputs": []
    },
    {
      "cell_type": "code",
      "source": [
        "import mediapipe as mp\n",
        "import tensorflow as tf\n",
        "import keras\n",
        "import numpy as np\n",
        "import pandas as pd\n",
        "import os\n",
        "import shutil\n",
        "import datetime as dt\n",
        "import matplotlib.pyplot as plt\n",
        "import seaborn as sns\n",
        "from tqdm import tqdm\n",
        "import glob\n",
        "import cv2\n",
        "from keras.utils import to_categorical\n",
        "from keras.models import Sequential\n",
        "from keras.layers import Bidirectional, LSTM, Dense, Attention, Dropout,Conv2D, MaxPooling2D, Flatten, Dense, Dropout\n",
        "from keras.callbacks import EarlyStopping\n",
        "from sklearn.metrics import multilabel_confusion_matrix, accuracy_score,classification_report,confusion_matrix\n",
        "from sklearn.model_selection import train_test_split\n",
        "np.random.seed(42)"
      ],
      "metadata": {
        "execution": {
          "iopub.execute_input": "2023-06-11T13:31:20.777982Z",
          "iopub.status.busy": "2023-06-11T13:31:20.777662Z",
          "iopub.status.idle": "2023-06-11T13:31:29.196682Z",
          "shell.execute_reply": "2023-06-11T13:31:29.195621Z"
        },
        "papermill": {
          "duration": 8.434815,
          "end_time": "2023-06-11T13:31:29.199841",
          "exception": false,
          "start_time": "2023-06-11T13:31:20.765026",
          "status": "completed"
        },
        "tags": [],
        "id": "5e1d20a3"
      },
      "execution_count": null,
      "outputs": []
    },
    {
      "cell_type": "markdown",
      "source": [
        "---"
      ],
      "metadata": {
        "id": "0tRO3wAVkKO4"
      }
    },
    {
      "cell_type": "markdown",
      "source": [
        "# **1.Getting Data**"
      ],
      "metadata": {
        "id": "jflKWLXikM3o"
      }
    },
    {
      "cell_type": "code",
      "source": [
        "os.environ['KAGGLE_CONFIG_DIR'] = '/content'"
      ],
      "metadata": {
        "id": "jrMvpIbHeDrh"
      },
      "execution_count": null,
      "outputs": []
    },
    {
      "cell_type": "code",
      "source": [
        "!kaggle datasets download -d ashrakatsaeed/data-010"
      ],
      "metadata": {
        "id": "AK-IhczwsYAp"
      },
      "execution_count": null,
      "outputs": []
    },
    {
      "cell_type": "code",
      "source": [
        "! unzip /content/data-010.zip"
      ],
      "metadata": {
        "id": "gb5APBOasYGR"
      },
      "execution_count": null,
      "outputs": []
    },
    {
      "cell_type": "code",
      "source": [
        "from google.colab import drive\n",
        "drive.mount('/content/drive')"
      ],
      "metadata": {
        "id": "QcfBG8R0Dp3G"
      },
      "execution_count": null,
      "outputs": []
    },
    {
      "cell_type": "markdown",
      "source": [
        "---"
      ],
      "metadata": {
        "id": "Q64P_wGglGUy"
      }
    },
    {
      "cell_type": "markdown",
      "source": [
        "# **2.Keypoints using MP Holistic**"
      ],
      "metadata": {
        "id": "crKJl20tlH2r"
      }
    },
    {
      "cell_type": "code",
      "source": [
        "# Create a Holistic object to detect pose, face, and hands keypoints\n",
        "mp_holistic = mp.solutions.holistic\n",
        "\n",
        "# Drawing utilities\n",
        "mp_drawing = mp.solutions.drawing_utils"
      ],
      "metadata": {
        "execution": {
          "iopub.execute_input": "2023-06-11T13:31:29.324111Z",
          "iopub.status.busy": "2023-06-11T13:31:29.323764Z",
          "iopub.status.idle": "2023-06-11T13:31:29.328913Z",
          "shell.execute_reply": "2023-06-11T13:31:29.328130Z"
        },
        "papermill": {
          "duration": 0.047743,
          "end_time": "2023-06-11T13:31:29.335711",
          "exception": false,
          "start_time": "2023-06-11T13:31:29.287968",
          "status": "completed"
        },
        "tags": [],
        "id": "4e6de243"
      },
      "execution_count": null,
      "outputs": []
    },
    {
      "cell_type": "code",
      "source": [
        "def mediapipe_detection(image, model):\n",
        "\n",
        "    image = cv2.cvtColor(image, cv2.COLOR_BGR2RGB) # COLOR CONVERSION BGR 2 RGB\n",
        "    image.flags.writeable = False                  # Image is no longer writeable\n",
        "    results = model.process(image)                 # Make prediction\n",
        "    image.flags.writeable = True                   # Image is now writeable\n",
        "    image = cv2.cvtColor(image, cv2.COLOR_RGB2BGR) # COLOR COVERSION RGB 2 BGR\n",
        "    return image, results"
      ],
      "metadata": {
        "execution": {
          "iopub.execute_input": "2023-06-11T13:31:29.395710Z",
          "iopub.status.busy": "2023-06-11T13:31:29.395226Z",
          "iopub.status.idle": "2023-06-11T13:31:29.403504Z",
          "shell.execute_reply": "2023-06-11T13:31:29.402683Z"
        },
        "papermill": {
          "duration": 0.034512,
          "end_time": "2023-06-11T13:31:29.406022",
          "exception": false,
          "start_time": "2023-06-11T13:31:29.371510",
          "status": "completed"
        },
        "tags": [],
        "id": "e8c6e4ad"
      },
      "execution_count": null,
      "outputs": []
    },
    {
      "cell_type": "code",
      "source": [
        "def draw_styled_landmarks(image, results):\n",
        "\n",
        "    # Draw pose connections\n",
        "    mp_drawing.draw_landmarks(image, results.pose_landmarks, mp_holistic.POSE_CONNECTIONS,\n",
        "                             mp_drawing.DrawingSpec(color=(80,22,10), thickness=2, circle_radius=4),\n",
        "                             mp_drawing.DrawingSpec(color=(80,44,121), thickness=2, circle_radius=2)\n",
        "                             )\n",
        "    # Draw left hand connections\n",
        "    mp_drawing.draw_landmarks(image, results.left_hand_landmarks, mp_holistic.HAND_CONNECTIONS,\n",
        "                             mp_drawing.DrawingSpec(color=(121,22,76), thickness=2, circle_radius=4),\n",
        "                             mp_drawing.DrawingSpec(color=(121,44,250), thickness=2, circle_radius=2)\n",
        "                             )\n",
        "    # Draw right hand connections\n",
        "    mp_drawing.draw_landmarks(image, results.right_hand_landmarks, mp_holistic.HAND_CONNECTIONS,\n",
        "                             mp_drawing.DrawingSpec(color=(245,117,66), thickness=2, circle_radius=4),\n",
        "                             mp_drawing.DrawingSpec(color=(245,66,230), thickness=2, circle_radius=2)\n",
        "                             )"
      ],
      "metadata": {
        "execution": {
          "iopub.execute_input": "2023-06-11T13:31:29.439634Z",
          "iopub.status.busy": "2023-06-11T13:31:29.439318Z",
          "iopub.status.idle": "2023-06-11T13:31:29.450764Z",
          "shell.execute_reply": "2023-06-11T13:31:29.450008Z"
        },
        "papermill": {
          "duration": 0.031341,
          "end_time": "2023-06-11T13:31:29.453417",
          "exception": false,
          "start_time": "2023-06-11T13:31:29.422076",
          "status": "completed"
        },
        "tags": [],
        "id": "5266715a"
      },
      "execution_count": null,
      "outputs": []
    },
    {
      "cell_type": "code",
      "source": [
        "def adjust_landmarks(arr,center):\n",
        "\n",
        "    # Reshape the array to have shape (n, 3)\n",
        "    arr_reshaped = arr.reshape(-1, 3)\n",
        "\n",
        "    # Repeat the center array to have shape (n, 3)\n",
        "    center_repeated = np.tile(center, (len(arr_reshaped), 1))\n",
        "\n",
        "    # Subtract the center array from the arr array\n",
        "    arr_adjusted = arr_reshaped - center_repeated\n",
        "\n",
        "    # Reshape arr_adjusted back to shape (n*3,)\n",
        "    arr_adjusted = arr_adjusted.reshape(-1)\n",
        "    return(arr_adjusted)"
      ],
      "metadata": {
        "execution": {
          "iopub.execute_input": "2023-06-11T13:31:29.487164Z",
          "iopub.status.busy": "2023-06-11T13:31:29.486855Z",
          "iopub.status.idle": "2023-06-11T13:31:29.492366Z",
          "shell.execute_reply": "2023-06-11T13:31:29.491592Z"
        },
        "papermill": {
          "duration": 0.02631,
          "end_time": "2023-06-11T13:31:29.496120",
          "exception": false,
          "start_time": "2023-06-11T13:31:29.469810",
          "status": "completed"
        },
        "tags": [],
        "id": "b7c6c6a3"
      },
      "execution_count": null,
      "outputs": []
    },
    {
      "cell_type": "markdown",
      "source": [
        "---"
      ],
      "metadata": {
        "id": "1gvE-ad7_lmv"
      }
    },
    {
      "cell_type": "markdown",
      "source": [
        "# **3.Extract Keypionts**"
      ],
      "metadata": {
        "id": "BmJVIs-elQuR"
      }
    },
    {
      "cell_type": "code",
      "source": [
        "def extract_keypoints(results):\n",
        "\n",
        "    pose = np.array([[res.x, res.y, res.z] for res in results.pose_landmarks.landmark]).flatten() if results.pose_landmarks else np.zeros(33*3)\n",
        "    lh = np.array([[res.x, res.y, res.z] for res in results.left_hand_landmarks.landmark]).flatten() if results.left_hand_landmarks else np.zeros(21*3)\n",
        "    rh = np.array([[res.x, res.y, res.z] for res in results.right_hand_landmarks.landmark]).flatten() if results.right_hand_landmarks else np.zeros(21*3)\n",
        "    nose=pose[:3]\n",
        "    lh_wrist=lh[:3]\n",
        "    rh_wrist=rh[:3]\n",
        "    pose_adjusted = adjust_landmarks(pose,nose)\n",
        "    lh_adjusted = adjust_landmarks(lh,lh_wrist)\n",
        "    rh_adjusted = adjust_landmarks(rh,rh_wrist)\n",
        "    return pose_adjusted, lh_adjusted, rh_adjusted"
      ],
      "metadata": {
        "execution": {
          "iopub.execute_input": "2023-06-11T13:31:29.528749Z",
          "iopub.status.busy": "2023-06-11T13:31:29.528452Z",
          "iopub.status.idle": "2023-06-11T13:31:29.539344Z",
          "shell.execute_reply": "2023-06-11T13:31:29.538533Z"
        },
        "papermill": {
          "duration": 0.030278,
          "end_time": "2023-06-11T13:31:29.542143",
          "exception": false,
          "start_time": "2023-06-11T13:31:29.511865",
          "status": "completed"
        },
        "tags": [],
        "id": "0c36083d"
      },
      "execution_count": null,
      "outputs": []
    },
    {
      "cell_type": "markdown",
      "source": [
        "---"
      ],
      "metadata": {
        "id": "AhnFef4c-mdd"
      }
    },
    {
      "cell_type": "markdown",
      "source": [
        "# **4. Save Keypionts in array**"
      ],
      "metadata": {
        "id": "deXgQix0lgIB"
      }
    },
    {
      "cell_type": "code",
      "source": [
        "selected_words = [str(num).zfill(4) for num in range(1,71)]\n"
      ],
      "metadata": {
        "execution": {
          "iopub.execute_input": "2023-06-11T13:31:29.574749Z",
          "iopub.status.busy": "2023-06-11T13:31:29.574457Z",
          "iopub.status.idle": "2023-06-11T13:31:29.578753Z",
          "shell.execute_reply": "2023-06-11T13:31:29.578007Z"
        },
        "papermill": {
          "duration": 0.024502,
          "end_time": "2023-06-11T13:31:29.582486",
          "exception": false,
          "start_time": "2023-06-11T13:31:29.557984",
          "status": "completed"
        },
        "tags": [],
        "id": "18da0db5"
      },
      "execution_count": null,
      "outputs": []
    },
    {
      "cell_type": "code",
      "source": [
        "def make_keypoint_arrays(path,signer,split):\n",
        "    \"\"\"This function generates numpy arrays of keypoints for each video in the specified folder location.\n",
        "    Args:\n",
        "      signer(int): the signer of interest. Could be 01 or 02 or 03\n",
        "      split(str): can be 'train', 'test' or 'val'\n",
        "    \"\"\"\n",
        "    os.makedirs('karsl-502',exist_ok = True)\n",
        "    os.makedirs(f'karsl-502/{signer}',exist_ok = True)\n",
        "    os.makedirs(f'karsl-502/{signer}/{split}',exist_ok = True)\n",
        "    working_path = f'karsl-502/{signer}/{split}'\n",
        "    words_folder = os.path.join(path,str(signer),str(signer), split)\n",
        "\n",
        "    # Loop through all the subfolders in the folder\n",
        "    for word in tqdm(selected_words):\n",
        "\n",
        "        video_files = os.listdir(os.path.join(words_folder, word))\n",
        "          # Loop through the video files\n",
        "        for video_file in video_files:\n",
        "                # Open the video file\n",
        "            video = sorted(os.listdir(os.path.join(words_folder, word, video_file)))\n",
        "\n",
        "            # Initialize the list of keypoints for this video\n",
        "            pose_keypoints, lh_keypoints, rh_keypoints = [], [], []\n",
        "            with mp_holistic.Holistic(min_detection_confidence=0.5, min_tracking_confidence=0.5) as holistic:\n",
        "              # Loop through the video frames\n",
        "              for frame in video:\n",
        "                  # Perform any necessary preprocessing on the frame (e.g., resizing, normalization)\n",
        "                frame = os.path.join(words_folder, word, video_file,frame)\n",
        "                frame = cv2.imread(frame)\n",
        "#                 frame = cv2.cvtColor(frame, cv2.COLOR_BGR2RGB)\n",
        "\n",
        "                  # Normalize pixel values to the range [0, 1]\n",
        "                # Make detections\n",
        "                image, results = mediapipe_detection(frame, holistic)\n",
        "\n",
        "                # Extract keypoints\n",
        "                pose, lh, rh = extract_keypoints(results)\n",
        "                # Add the keypoints to the list for this video\n",
        "                pose_keypoints.append(pose)\n",
        "                lh_keypoints.append(lh)\n",
        "                rh_keypoints.append(rh)\n",
        "                # Save the keypoints for this video to a numpy array\n",
        "                pose_directory = os.path.join(working_path, word,'pose_keypoints')\n",
        "                lh_directory = os.path.join(working_path, word,'lh_keypoints')\n",
        "                rh_directory = os.path.join(working_path, word,'rh_keypoints')\n",
        "\n",
        "                if not os.path.exists(pose_directory):\n",
        "                    os.makedirs(pose_directory)\n",
        "\n",
        "                if not os.path.exists(lh_directory):\n",
        "                    os.makedirs(lh_directory)\n",
        "\n",
        "                if not os.path.exists(rh_directory):\n",
        "                    os.makedirs(rh_directory)\n",
        "\n",
        "                pose_path = os.path.join(pose_directory, video_file)\n",
        "                np.save(pose_path, pose_keypoints)\n",
        "\n",
        "                lh_path = os.path.join(lh_directory, video_file)\n",
        "                np.save(lh_path, lh_keypoints)\n",
        "\n",
        "                rh_path = os.path.join(rh_directory, video_file)\n",
        "                np.save(rh_path, rh_keypoints)"
      ],
      "metadata": {
        "execution": {
          "iopub.execute_input": "2023-06-11T13:31:29.615435Z",
          "iopub.status.busy": "2023-06-11T13:31:29.615124Z",
          "iopub.status.idle": "2023-06-11T13:31:29.635117Z",
          "shell.execute_reply": "2023-06-11T13:31:29.634406Z"
        },
        "papermill": {
          "duration": 0.039324,
          "end_time": "2023-06-11T13:31:29.637509",
          "exception": false,
          "start_time": "2023-06-11T13:31:29.598185",
          "status": "completed"
        },
        "tags": [],
        "id": "9a3d79df"
      },
      "execution_count": null,
      "outputs": []
    },
    {
      "cell_type": "code",
      "source": [
        "data_path = \"/content/data\"\n",
        "make_keypoint_arrays(data_path,'01','train/0001-0071')"
      ],
      "metadata": {
        "execution": {
          "iopub.execute_input": "2023-06-11T13:31:29.670276Z",
          "iopub.status.busy": "2023-06-11T13:31:29.669968Z",
          "iopub.status.idle": "2023-06-11T13:31:29.673794Z",
          "shell.execute_reply": "2023-06-11T13:31:29.673041Z"
        },
        "papermill": {
          "duration": 0.023928,
          "end_time": "2023-06-11T13:31:29.677542",
          "exception": false,
          "start_time": "2023-06-11T13:31:29.653614",
          "status": "completed"
        },
        "tags": [],
        "id": "a5494cc5"
      },
      "execution_count": null,
      "outputs": []
    },
    {
      "cell_type": "code",
      "source": [
        "make_keypoint_arrays(data_path,'01','test/000-0071')"
      ],
      "metadata": {
        "id": "gIFiHEsnl6Vp"
      },
      "execution_count": null,
      "outputs": []
    },
    {
      "cell_type": "markdown",
      "source": [
        "---"
      ],
      "metadata": {
        "id": "0uQ8JBsi-s63"
      }
    },
    {
      "cell_type": "markdown",
      "source": [
        "# **5. Labels Mapping**"
      ],
      "metadata": {
        "id": "IbmntnuNmBbD"
      }
    },
    {
      "cell_type": "code",
      "source": [
        "karsl_df = pd.read_excel('/content/KARSL-190_Labels.xlsx')\n",
        "mask = []\n",
        "for i in karsl_df['SignID'].values:\n",
        "    if str(i).zfill(4) in selected_words :\n",
        "        mask.append(True)\n",
        "    else :\n",
        "        mask.append(False)\n",
        "\n",
        "karsl_6 = karsl_df[mask].reset_index(drop=True)\n",
        "\n",
        "karsl_6"
      ],
      "metadata": {
        "execution": {
          "iopub.execute_input": "2023-06-11T13:31:29.710889Z",
          "iopub.status.busy": "2023-06-11T13:31:29.710587Z",
          "iopub.status.idle": "2023-06-11T13:31:30.092010Z",
          "shell.execute_reply": "2023-06-11T13:31:30.091143Z"
        },
        "papermill": {
          "duration": 0.399975,
          "end_time": "2023-06-11T13:31:30.094050",
          "exception": false,
          "start_time": "2023-06-11T13:31:29.694075",
          "status": "completed"
        },
        "tags": [],
        "id": "a48d8dcc",
        "colab": {
          "base_uri": "https://localhost:8080/",
          "height": 423
        },
        "outputId": "9fb926f6-c96f-44a2-cd98-9372a81da907"
      },
      "execution_count": null,
      "outputs": [
        {
          "output_type": "execute_result",
          "execution_count": 16,
          "data": {
            "text/plain": [
              "    SignID Sign-Arabic           Sign-English\n",
              "0        1           0                      0\n",
              "1        2           1                      1\n",
              "2        3           2                      2\n",
              "3        4           3                      3\n",
              "4        5           4                      4\n",
              "..     ...         ...                    ...\n",
              "65      66           إ  alif with hamza below\n",
              "66      67           آ         ALif with maad\n",
              "67      68           ى          Alif maqsoura\n",
              "68      69          لا              laam Alif\n",
              "69      70          ال                     Al\n",
              "\n",
              "[70 rows x 3 columns]"
            ],
            "text/html": [
              "\n",
              "  <div id=\"df-0bbc22fd-a508-4eef-956c-4c9df6587769\" class=\"colab-df-container\">\n",
              "    <div>\n",
              "<style scoped>\n",
              "    .dataframe tbody tr th:only-of-type {\n",
              "        vertical-align: middle;\n",
              "    }\n",
              "\n",
              "    .dataframe tbody tr th {\n",
              "        vertical-align: top;\n",
              "    }\n",
              "\n",
              "    .dataframe thead th {\n",
              "        text-align: right;\n",
              "    }\n",
              "</style>\n",
              "<table border=\"1\" class=\"dataframe\">\n",
              "  <thead>\n",
              "    <tr style=\"text-align: right;\">\n",
              "      <th></th>\n",
              "      <th>SignID</th>\n",
              "      <th>Sign-Arabic</th>\n",
              "      <th>Sign-English</th>\n",
              "    </tr>\n",
              "  </thead>\n",
              "  <tbody>\n",
              "    <tr>\n",
              "      <th>0</th>\n",
              "      <td>1</td>\n",
              "      <td>0</td>\n",
              "      <td>0</td>\n",
              "    </tr>\n",
              "    <tr>\n",
              "      <th>1</th>\n",
              "      <td>2</td>\n",
              "      <td>1</td>\n",
              "      <td>1</td>\n",
              "    </tr>\n",
              "    <tr>\n",
              "      <th>2</th>\n",
              "      <td>3</td>\n",
              "      <td>2</td>\n",
              "      <td>2</td>\n",
              "    </tr>\n",
              "    <tr>\n",
              "      <th>3</th>\n",
              "      <td>4</td>\n",
              "      <td>3</td>\n",
              "      <td>3</td>\n",
              "    </tr>\n",
              "    <tr>\n",
              "      <th>4</th>\n",
              "      <td>5</td>\n",
              "      <td>4</td>\n",
              "      <td>4</td>\n",
              "    </tr>\n",
              "    <tr>\n",
              "      <th>...</th>\n",
              "      <td>...</td>\n",
              "      <td>...</td>\n",
              "      <td>...</td>\n",
              "    </tr>\n",
              "    <tr>\n",
              "      <th>65</th>\n",
              "      <td>66</td>\n",
              "      <td>إ</td>\n",
              "      <td>alif with hamza below</td>\n",
              "    </tr>\n",
              "    <tr>\n",
              "      <th>66</th>\n",
              "      <td>67</td>\n",
              "      <td>آ</td>\n",
              "      <td>ALif with maad</td>\n",
              "    </tr>\n",
              "    <tr>\n",
              "      <th>67</th>\n",
              "      <td>68</td>\n",
              "      <td>ى</td>\n",
              "      <td>Alif maqsoura</td>\n",
              "    </tr>\n",
              "    <tr>\n",
              "      <th>68</th>\n",
              "      <td>69</td>\n",
              "      <td>لا</td>\n",
              "      <td>laam Alif</td>\n",
              "    </tr>\n",
              "    <tr>\n",
              "      <th>69</th>\n",
              "      <td>70</td>\n",
              "      <td>ال</td>\n",
              "      <td>Al</td>\n",
              "    </tr>\n",
              "  </tbody>\n",
              "</table>\n",
              "<p>70 rows × 3 columns</p>\n",
              "</div>\n",
              "    <div class=\"colab-df-buttons\">\n",
              "\n",
              "  <div class=\"colab-df-container\">\n",
              "    <button class=\"colab-df-convert\" onclick=\"convertToInteractive('df-0bbc22fd-a508-4eef-956c-4c9df6587769')\"\n",
              "            title=\"Convert this dataframe to an interactive table.\"\n",
              "            style=\"display:none;\">\n",
              "\n",
              "  <svg xmlns=\"http://www.w3.org/2000/svg\" height=\"24px\" viewBox=\"0 -960 960 960\">\n",
              "    <path d=\"M120-120v-720h720v720H120Zm60-500h600v-160H180v160Zm220 220h160v-160H400v160Zm0 220h160v-160H400v160ZM180-400h160v-160H180v160Zm440 0h160v-160H620v160ZM180-180h160v-160H180v160Zm440 0h160v-160H620v160Z\"/>\n",
              "  </svg>\n",
              "    </button>\n",
              "\n",
              "  <style>\n",
              "    .colab-df-container {\n",
              "      display:flex;\n",
              "      gap: 12px;\n",
              "    }\n",
              "\n",
              "    .colab-df-convert {\n",
              "      background-color: #E8F0FE;\n",
              "      border: none;\n",
              "      border-radius: 50%;\n",
              "      cursor: pointer;\n",
              "      display: none;\n",
              "      fill: #1967D2;\n",
              "      height: 32px;\n",
              "      padding: 0 0 0 0;\n",
              "      width: 32px;\n",
              "    }\n",
              "\n",
              "    .colab-df-convert:hover {\n",
              "      background-color: #E2EBFA;\n",
              "      box-shadow: 0px 1px 2px rgba(60, 64, 67, 0.3), 0px 1px 3px 1px rgba(60, 64, 67, 0.15);\n",
              "      fill: #174EA6;\n",
              "    }\n",
              "\n",
              "    .colab-df-buttons div {\n",
              "      margin-bottom: 4px;\n",
              "    }\n",
              "\n",
              "    [theme=dark] .colab-df-convert {\n",
              "      background-color: #3B4455;\n",
              "      fill: #D2E3FC;\n",
              "    }\n",
              "\n",
              "    [theme=dark] .colab-df-convert:hover {\n",
              "      background-color: #434B5C;\n",
              "      box-shadow: 0px 1px 3px 1px rgba(0, 0, 0, 0.15);\n",
              "      filter: drop-shadow(0px 1px 2px rgba(0, 0, 0, 0.3));\n",
              "      fill: #FFFFFF;\n",
              "    }\n",
              "  </style>\n",
              "\n",
              "    <script>\n",
              "      const buttonEl =\n",
              "        document.querySelector('#df-0bbc22fd-a508-4eef-956c-4c9df6587769 button.colab-df-convert');\n",
              "      buttonEl.style.display =\n",
              "        google.colab.kernel.accessAllowed ? 'block' : 'none';\n",
              "\n",
              "      async function convertToInteractive(key) {\n",
              "        const element = document.querySelector('#df-0bbc22fd-a508-4eef-956c-4c9df6587769');\n",
              "        const dataTable =\n",
              "          await google.colab.kernel.invokeFunction('convertToInteractive',\n",
              "                                                    [key], {});\n",
              "        if (!dataTable) return;\n",
              "\n",
              "        const docLinkHtml = 'Like what you see? Visit the ' +\n",
              "          '<a target=\"_blank\" href=https://colab.research.google.com/notebooks/data_table.ipynb>data table notebook</a>'\n",
              "          + ' to learn more about interactive tables.';\n",
              "        element.innerHTML = '';\n",
              "        dataTable['output_type'] = 'display_data';\n",
              "        await google.colab.output.renderOutput(dataTable, element);\n",
              "        const docLink = document.createElement('div');\n",
              "        docLink.innerHTML = docLinkHtml;\n",
              "        element.appendChild(docLink);\n",
              "      }\n",
              "    </script>\n",
              "  </div>\n",
              "\n",
              "\n",
              "<div id=\"df-b22e5362-97ea-4278-a00f-b9fd511a295a\">\n",
              "  <button class=\"colab-df-quickchart\" onclick=\"quickchart('df-b22e5362-97ea-4278-a00f-b9fd511a295a')\"\n",
              "            title=\"Suggest charts\"\n",
              "            style=\"display:none;\">\n",
              "\n",
              "<svg xmlns=\"http://www.w3.org/2000/svg\" height=\"24px\"viewBox=\"0 0 24 24\"\n",
              "     width=\"24px\">\n",
              "    <g>\n",
              "        <path d=\"M19 3H5c-1.1 0-2 .9-2 2v14c0 1.1.9 2 2 2h14c1.1 0 2-.9 2-2V5c0-1.1-.9-2-2-2zM9 17H7v-7h2v7zm4 0h-2V7h2v10zm4 0h-2v-4h2v4z\"/>\n",
              "    </g>\n",
              "</svg>\n",
              "  </button>\n",
              "\n",
              "<style>\n",
              "  .colab-df-quickchart {\n",
              "      --bg-color: #E8F0FE;\n",
              "      --fill-color: #1967D2;\n",
              "      --hover-bg-color: #E2EBFA;\n",
              "      --hover-fill-color: #174EA6;\n",
              "      --disabled-fill-color: #AAA;\n",
              "      --disabled-bg-color: #DDD;\n",
              "  }\n",
              "\n",
              "  [theme=dark] .colab-df-quickchart {\n",
              "      --bg-color: #3B4455;\n",
              "      --fill-color: #D2E3FC;\n",
              "      --hover-bg-color: #434B5C;\n",
              "      --hover-fill-color: #FFFFFF;\n",
              "      --disabled-bg-color: #3B4455;\n",
              "      --disabled-fill-color: #666;\n",
              "  }\n",
              "\n",
              "  .colab-df-quickchart {\n",
              "    background-color: var(--bg-color);\n",
              "    border: none;\n",
              "    border-radius: 50%;\n",
              "    cursor: pointer;\n",
              "    display: none;\n",
              "    fill: var(--fill-color);\n",
              "    height: 32px;\n",
              "    padding: 0;\n",
              "    width: 32px;\n",
              "  }\n",
              "\n",
              "  .colab-df-quickchart:hover {\n",
              "    background-color: var(--hover-bg-color);\n",
              "    box-shadow: 0 1px 2px rgba(60, 64, 67, 0.3), 0 1px 3px 1px rgba(60, 64, 67, 0.15);\n",
              "    fill: var(--button-hover-fill-color);\n",
              "  }\n",
              "\n",
              "  .colab-df-quickchart-complete:disabled,\n",
              "  .colab-df-quickchart-complete:disabled:hover {\n",
              "    background-color: var(--disabled-bg-color);\n",
              "    fill: var(--disabled-fill-color);\n",
              "    box-shadow: none;\n",
              "  }\n",
              "\n",
              "  .colab-df-spinner {\n",
              "    border: 2px solid var(--fill-color);\n",
              "    border-color: transparent;\n",
              "    border-bottom-color: var(--fill-color);\n",
              "    animation:\n",
              "      spin 1s steps(1) infinite;\n",
              "  }\n",
              "\n",
              "  @keyframes spin {\n",
              "    0% {\n",
              "      border-color: transparent;\n",
              "      border-bottom-color: var(--fill-color);\n",
              "      border-left-color: var(--fill-color);\n",
              "    }\n",
              "    20% {\n",
              "      border-color: transparent;\n",
              "      border-left-color: var(--fill-color);\n",
              "      border-top-color: var(--fill-color);\n",
              "    }\n",
              "    30% {\n",
              "      border-color: transparent;\n",
              "      border-left-color: var(--fill-color);\n",
              "      border-top-color: var(--fill-color);\n",
              "      border-right-color: var(--fill-color);\n",
              "    }\n",
              "    40% {\n",
              "      border-color: transparent;\n",
              "      border-right-color: var(--fill-color);\n",
              "      border-top-color: var(--fill-color);\n",
              "    }\n",
              "    60% {\n",
              "      border-color: transparent;\n",
              "      border-right-color: var(--fill-color);\n",
              "    }\n",
              "    80% {\n",
              "      border-color: transparent;\n",
              "      border-right-color: var(--fill-color);\n",
              "      border-bottom-color: var(--fill-color);\n",
              "    }\n",
              "    90% {\n",
              "      border-color: transparent;\n",
              "      border-bottom-color: var(--fill-color);\n",
              "    }\n",
              "  }\n",
              "</style>\n",
              "\n",
              "  <script>\n",
              "    async function quickchart(key) {\n",
              "      const quickchartButtonEl =\n",
              "        document.querySelector('#' + key + ' button');\n",
              "      quickchartButtonEl.disabled = true;  // To prevent multiple clicks.\n",
              "      quickchartButtonEl.classList.add('colab-df-spinner');\n",
              "      try {\n",
              "        const charts = await google.colab.kernel.invokeFunction(\n",
              "            'suggestCharts', [key], {});\n",
              "      } catch (error) {\n",
              "        console.error('Error during call to suggestCharts:', error);\n",
              "      }\n",
              "      quickchartButtonEl.classList.remove('colab-df-spinner');\n",
              "      quickchartButtonEl.classList.add('colab-df-quickchart-complete');\n",
              "    }\n",
              "    (() => {\n",
              "      let quickchartButtonEl =\n",
              "        document.querySelector('#df-b22e5362-97ea-4278-a00f-b9fd511a295a button');\n",
              "      quickchartButtonEl.style.display =\n",
              "        google.colab.kernel.accessAllowed ? 'block' : 'none';\n",
              "    })();\n",
              "  </script>\n",
              "</div>\n",
              "\n",
              "  <div id=\"id_1922fb63-93db-4921-96bb-38a1f1c89eeb\">\n",
              "    <style>\n",
              "      .colab-df-generate {\n",
              "        background-color: #E8F0FE;\n",
              "        border: none;\n",
              "        border-radius: 50%;\n",
              "        cursor: pointer;\n",
              "        display: none;\n",
              "        fill: #1967D2;\n",
              "        height: 32px;\n",
              "        padding: 0 0 0 0;\n",
              "        width: 32px;\n",
              "      }\n",
              "\n",
              "      .colab-df-generate:hover {\n",
              "        background-color: #E2EBFA;\n",
              "        box-shadow: 0px 1px 2px rgba(60, 64, 67, 0.3), 0px 1px 3px 1px rgba(60, 64, 67, 0.15);\n",
              "        fill: #174EA6;\n",
              "      }\n",
              "\n",
              "      [theme=dark] .colab-df-generate {\n",
              "        background-color: #3B4455;\n",
              "        fill: #D2E3FC;\n",
              "      }\n",
              "\n",
              "      [theme=dark] .colab-df-generate:hover {\n",
              "        background-color: #434B5C;\n",
              "        box-shadow: 0px 1px 3px 1px rgba(0, 0, 0, 0.15);\n",
              "        filter: drop-shadow(0px 1px 2px rgba(0, 0, 0, 0.3));\n",
              "        fill: #FFFFFF;\n",
              "      }\n",
              "    </style>\n",
              "    <button class=\"colab-df-generate\" onclick=\"generateWithVariable('karsl_6')\"\n",
              "            title=\"Generate code using this dataframe.\"\n",
              "            style=\"display:none;\">\n",
              "\n",
              "  <svg xmlns=\"http://www.w3.org/2000/svg\" height=\"24px\"viewBox=\"0 0 24 24\"\n",
              "       width=\"24px\">\n",
              "    <path d=\"M7,19H8.4L18.45,9,17,7.55,7,17.6ZM5,21V16.75L18.45,3.32a2,2,0,0,1,2.83,0l1.4,1.43a1.91,1.91,0,0,1,.58,1.4,1.91,1.91,0,0,1-.58,1.4L9.25,21ZM18.45,9,17,7.55Zm-12,3A5.31,5.31,0,0,0,4.9,8.1,5.31,5.31,0,0,0,1,6.5,5.31,5.31,0,0,0,4.9,4.9,5.31,5.31,0,0,0,6.5,1,5.31,5.31,0,0,0,8.1,4.9,5.31,5.31,0,0,0,12,6.5,5.46,5.46,0,0,0,6.5,12Z\"/>\n",
              "  </svg>\n",
              "    </button>\n",
              "    <script>\n",
              "      (() => {\n",
              "      const buttonEl =\n",
              "        document.querySelector('#id_1922fb63-93db-4921-96bb-38a1f1c89eeb button.colab-df-generate');\n",
              "      buttonEl.style.display =\n",
              "        google.colab.kernel.accessAllowed ? 'block' : 'none';\n",
              "\n",
              "      buttonEl.onclick = () => {\n",
              "        google.colab.notebook.generateWithVariable('karsl_6');\n",
              "      }\n",
              "      })();\n",
              "    </script>\n",
              "  </div>\n",
              "\n",
              "    </div>\n",
              "  </div>\n"
            ],
            "application/vnd.google.colaboratory.intrinsic+json": {
              "type": "dataframe",
              "variable_name": "karsl_6",
              "summary": "{\n  \"name\": \"karsl_6\",\n  \"rows\": 70,\n  \"fields\": [\n    {\n      \"column\": \"SignID\",\n      \"properties\": {\n        \"dtype\": \"number\",\n        \"std\": 20,\n        \"min\": 1,\n        \"max\": 70,\n        \"num_unique_values\": 70,\n        \"samples\": [\n          23,\n          1,\n          50\n        ],\n        \"semantic_type\": \"\",\n        \"description\": \"\"\n      }\n    },\n    {\n      \"column\": \"Sign-Arabic\",\n      \"properties\": {\n        \"dtype\": \"string\",\n        \"num_unique_values\": 70,\n        \"samples\": [\n          400,\n          0,\n          \"\\u063a\"\n        ],\n        \"semantic_type\": \"\",\n        \"description\": \"\"\n      }\n    },\n    {\n      \"column\": \"Sign-English\",\n      \"properties\": {\n        \"dtype\": \"string\",\n        \"num_unique_values\": 70,\n        \"samples\": [\n          400,\n          0,\n          \"ghayn\"\n        ],\n        \"semantic_type\": \"\",\n        \"description\": \"\"\n      }\n    }\n  ]\n}"
            }
          },
          "metadata": {}
        }
      ]
    },
    {
      "cell_type": "code",
      "source": [
        "w2id = {w:i for w,i in zip(karsl_6['Sign-Arabic'].values,karsl_6['SignID'].values  )}\n",
        "w2id"
      ],
      "metadata": {
        "execution": {
          "iopub.execute_input": "2023-06-11T13:31:30.119912Z",
          "iopub.status.busy": "2023-06-11T13:31:30.118949Z",
          "iopub.status.idle": "2023-06-11T13:31:30.130023Z",
          "shell.execute_reply": "2023-06-11T13:31:30.129140Z"
        },
        "papermill": {
          "duration": 0.025889,
          "end_time": "2023-06-11T13:31:30.132089",
          "exception": false,
          "start_time": "2023-06-11T13:31:30.106200",
          "status": "completed"
        },
        "tags": [],
        "id": "dfa0e5f4",
        "colab": {
          "base_uri": "https://localhost:8080/"
        },
        "outputId": "af310fdd-f3fd-4349-b80b-35d5bd1d9e1c"
      },
      "execution_count": null,
      "outputs": [
        {
          "output_type": "execute_result",
          "execution_count": 17,
          "data": {
            "text/plain": [
              "{0: 1,\n",
              " 1: 2,\n",
              " 2: 3,\n",
              " 3: 4,\n",
              " 4: 5,\n",
              " 5: 6,\n",
              " 6: 7,\n",
              " 7: 8,\n",
              " 8: 9,\n",
              " 9: 10,\n",
              " 10: 11,\n",
              " 20: 12,\n",
              " 30: 13,\n",
              " 40: 14,\n",
              " 50: 15,\n",
              " 60: 16,\n",
              " 70: 17,\n",
              " 80: 18,\n",
              " 90: 19,\n",
              " 100: 20,\n",
              " 200: 21,\n",
              " 300: 22,\n",
              " 400: 23,\n",
              " 500: 24,\n",
              " 600: 25,\n",
              " 700: 26,\n",
              " 800: 27,\n",
              " 900: 28,\n",
              " 1000: 29,\n",
              " 1000000: 30,\n",
              " 10000000: 31,\n",
              " 'ا': 32,\n",
              " 'ب': 33,\n",
              " 'ت': 34,\n",
              " 'ث': 35,\n",
              " 'ج': 36,\n",
              " 'ح': 37,\n",
              " 'خ': 38,\n",
              " 'د': 39,\n",
              " 'ذ': 40,\n",
              " 'ر': 41,\n",
              " 'ز': 42,\n",
              " 'س': 43,\n",
              " 'ش': 44,\n",
              " 'ص': 45,\n",
              " 'ض': 46,\n",
              " 'ط': 47,\n",
              " 'ظ': 48,\n",
              " 'ع': 49,\n",
              " 'غ': 50,\n",
              " 'ف': 51,\n",
              " 'ق': 52,\n",
              " 'ك': 53,\n",
              " 'ل': 54,\n",
              " 'م': 55,\n",
              " 'ن': 56,\n",
              " 'ه': 57,\n",
              " 'و': 58,\n",
              " 'ي': 59,\n",
              " 'ة': 60,\n",
              " 'أ': 61,\n",
              " 'ؤ': 62,\n",
              " 'ئ': 63,\n",
              " 'ئـ': 64,\n",
              " 'ء': 65,\n",
              " 'إ': 66,\n",
              " 'آ': 67,\n",
              " 'ى': 68,\n",
              " 'لا': 69,\n",
              " 'ال': 70}"
            ]
          },
          "metadata": {}
        }
      ]
    },
    {
      "cell_type": "code",
      "source": [
        "words2= np.array([v for v in karsl_6['Sign-Arabic']])\n",
        "print(words2)"
      ],
      "metadata": {
        "execution": {
          "iopub.execute_input": "2023-06-11T13:31:30.156580Z",
          "iopub.status.busy": "2023-06-11T13:31:30.156307Z",
          "iopub.status.idle": "2023-06-11T13:31:30.161761Z",
          "shell.execute_reply": "2023-06-11T13:31:30.160923Z"
        },
        "papermill": {
          "duration": 0.020751,
          "end_time": "2023-06-11T13:31:30.164566",
          "exception": false,
          "start_time": "2023-06-11T13:31:30.143815",
          "status": "completed"
        },
        "tags": [],
        "id": "f75634da",
        "colab": {
          "base_uri": "https://localhost:8080/"
        },
        "outputId": "44c94214-b2c2-448b-9cfa-376bff1bafdb"
      },
      "execution_count": null,
      "outputs": [
        {
          "output_type": "stream",
          "name": "stdout",
          "text": "['0' '1' '2' '3' '4' '5' '6' '7' '8' '9' '10' '20' '30' '40' '50' '60'\n\n '70' '80' '90' '100' '200' '300' '400' '500' '600' '700' '800' '900'\n\n '1000' '1000000' '10000000' 'ا' 'ب' 'ت' 'ث' 'ج' 'ح' 'خ' 'د' 'ذ' 'ر' 'ز'\n\n 'س' 'ش' 'ص' 'ض' 'ط' 'ظ' 'ع' 'غ' 'ف' 'ق' 'ك' 'ل' 'م' 'ن' 'ه' 'و' 'ي' 'ة'\n\n 'أ' 'ؤ' 'ئ' 'ئـ' 'ء' 'إ' 'آ' 'ى' 'لا' 'ال']\n"
        }
      ]
    },
    {
      "cell_type": "code",
      "source": [
        "label_map = {label:num for num, label in enumerate(words2)}\n",
        "print(label_map)"
      ],
      "metadata": {
        "execution": {
          "iopub.execute_input": "2023-06-11T13:31:30.189453Z",
          "iopub.status.busy": "2023-06-11T13:31:30.188842Z",
          "iopub.status.idle": "2023-06-11T13:31:30.194094Z",
          "shell.execute_reply": "2023-06-11T13:31:30.193220Z"
        },
        "papermill": {
          "duration": 0.02008,
          "end_time": "2023-06-11T13:31:30.196393",
          "exception": false,
          "start_time": "2023-06-11T13:31:30.176313",
          "status": "completed"
        },
        "tags": [],
        "id": "adac9112",
        "colab": {
          "base_uri": "https://localhost:8080/"
        },
        "outputId": "5126275d-98a8-44f0-9da1-ceb53928ba69"
      },
      "execution_count": null,
      "outputs": [
        {
          "output_type": "stream",
          "name": "stdout",
          "text": "{'0': 0, '1': 1, '2': 2, '3': 3, '4': 4, '5': 5, '6': 6, '7': 7, '8': 8, '9': 9, '10': 10, '20': 11, '30': 12, '40': 13, '50': 14, '60': 15, '70': 16, '80': 17, '90': 18, '100': 19, '200': 20, '300': 21, '400': 22, '500': 23, '600': 24, '700': 25, '800': 26, '900': 27, '1000': 28, '1000000': 29, '10000000': 30, 'ا': 31, 'ب': 32, 'ت': 33, 'ث': 34, 'ج': 35, 'ح': 36, 'خ': 37, 'د': 38, 'ذ': 39, 'ر': 40, 'ز': 41, 'س': 42, 'ش': 43, 'ص': 44, 'ض': 45, 'ط': 46, 'ظ': 47, 'ع': 48, 'غ': 49, 'ف': 50, 'ق': 51, 'ك': 52, 'ل': 53, 'م': 54, 'ن': 55, 'ه': 56, 'و': 57, 'ي': 58, 'ة': 59, 'أ': 60, 'ؤ': 61, 'ئ': 62, 'ئـ': 63, 'ء': 64, 'إ': 65, 'آ': 66, 'ى': 67, 'لا': 68, 'ال': 69}\n"
        }
      ]
    },
    {
      "cell_type": "markdown",
      "source": [
        "# **6.Preprocessing Data**"
      ],
      "metadata": {
        "id": "YT16AlF6mKOv"
      }
    },
    {
      "cell_type": "code",
      "source": [
        "w2id = {str(key): value for key, value in w2id.items()}   ## Notice : I made the keys of w2id as str to debug the error :)"
      ],
      "metadata": {
        "id": "s4ttUbzV03KF"
      },
      "execution_count": null,
      "outputs": []
    },
    {
      "cell_type": "code",
      "source": [
        "def preprocess_data(data_path,signers,split,f_avg):\n",
        "\n",
        "    # Initialize the lists of sequences and labels\n",
        "    sequences, labels = [], []\n",
        "\n",
        "    # Iterate through the list of words\n",
        "    for word in tqdm(words2):\n",
        "        for signer in signers:\n",
        "            # Iterate through the numpy arrays contained in the directory mentioned below\n",
        "            for sequence in os.listdir(os.path.join(data_path,signer, split, str(w2id[word]).zfill(2).zfill(4), 'lh_keypoints')):\n",
        "                 # Load the left hand array\n",
        "                res_lh = np.load(os.path.join(data_path,str(signer), split, str(w2id[word] ).zfill(4), 'lh_keypoints', sequence))\n",
        "\n",
        "                # Determine how many rows to select\n",
        "                num_frames = min(res_lh.shape[0], f_avg)\n",
        "                res_lh = res_lh[:num_frames,:]\n",
        "                while num_frames < f_avg:\n",
        "                    res_lh = np.concatenate((res_lh, np.expand_dims(res_lh[-1,:], axis=0)), axis=0)\n",
        "                    num_frames += 1\n",
        "\n",
        "                # Load the right hand array\n",
        "                res_rh = np.load(os.path.join(data_path,str(signer), split, str(w2id[word]).zfill(4), 'rh_keypoints', sequence))\n",
        "\n",
        "                # Determine how many rows to select\n",
        "                num_frames = min(res_rh.shape[0], f_avg)\n",
        "                res_rh = res_rh[:num_frames,:]\n",
        "                while num_frames < f_avg:\n",
        "                    res_rh = np.concatenate((res_rh, np.expand_dims(res_rh[-1,:], axis=0)), axis=0)\n",
        "                    num_frames += 1\n",
        "\n",
        "                # Load the pose array\n",
        "                res_pose = np.load(os.path.join(data_path,str(signer), split, str(w2id[word]).zfill(4), 'pose_keypoints', sequence))\n",
        "\n",
        "                # Determine how many rows to select\n",
        "                num_frames = min(res_pose.shape[0], f_avg)\n",
        "                res_pose = res_pose[:num_frames,:]\n",
        "                while num_frames < f_avg:\n",
        "                    res_pose = np.concatenate((res_pose, np.expand_dims(res_pose[-1,:], axis=0)), axis=0)\n",
        "                    num_frames += 1\n",
        "\n",
        "                # Append the subsequence to the list of sequences\n",
        "                sequences.append(np.concatenate((res_pose,res_lh, res_rh), axis=1))\n",
        "                # Append the label to the list of labels\n",
        "                labels.append(label_map[word])\n",
        "    # Convert the lists of sequences and labels to numpy arrays\n",
        "    X = np.array(sequences)\n",
        "    y = to_categorical(labels).astype(int)\n",
        "\n",
        "    return X, y\n"
      ],
      "metadata": {
        "id": "flIw1OtQo8F8"
      },
      "execution_count": null,
      "outputs": []
    },
    {
      "cell_type": "code",
      "source": [
        "#train and validation splits\n",
        "data_path2 = '/content/drive/MyDrive/karsl-502'\n",
        "X_train,y_train=preprocess_data(data_path2,['01'],'train/0001-0071',48)\n",
        "X_train, X_val, y_train, y_val = train_test_split(X_train, y_train, test_size=0.2, random_state=42)\n",
        "print(X_train.shape)\n",
        "print(y_train.shape)\n",
        "print(X_val.shape)\n",
        "print(y_val.shape)"
      ],
      "metadata": {
        "execution": {
          "iopub.execute_input": "2023-06-11T13:31:30.262813Z",
          "iopub.status.busy": "2023-06-11T13:31:30.262556Z",
          "iopub.status.idle": "2023-06-11T13:33:21.802163Z",
          "shell.execute_reply": "2023-06-11T13:33:21.800938Z"
        },
        "papermill": {
          "duration": 111.554764,
          "end_time": "2023-06-11T13:33:21.804524",
          "exception": false,
          "start_time": "2023-06-11T13:31:30.249760",
          "status": "completed"
        },
        "tags": [],
        "id": "cc5dba1f",
        "colab": {
          "base_uri": "https://localhost:8080/"
        },
        "outputId": "59cdb072-8bbc-417a-de41-ff632881d3fb"
      },
      "execution_count": null,
      "outputs": [
        {
          "output_type": "stream",
          "name": "stderr",
          "text": "100%|██████████| 70/70 [1:09:37<00:00, 59.69s/it]\n"
        },
        {
          "output_type": "stream",
          "name": "stdout",
          "text": "(2389, 48, 225)\n\n(2389, 70)\n\n(598, 48, 225)\n\n(598, 70)\n"
        }
      ]
    },
    {
      "cell_type": "code",
      "source": [
        "#test split\n",
        "X_test,y_test=preprocess_data(data_path2,['01'],'test/000-0071',48)\n",
        "print(X_test.shape)\n",
        "print(y_test.shape)"
      ],
      "metadata": {
        "execution": {
          "iopub.execute_input": "2023-06-11T13:33:21.846682Z",
          "iopub.status.busy": "2023-06-11T13:33:21.846388Z",
          "iopub.status.idle": "2023-06-11T13:33:44.802325Z",
          "shell.execute_reply": "2023-06-11T13:33:44.801143Z"
        },
        "papermill": {
          "duration": 22.979879,
          "end_time": "2023-06-11T13:33:44.805053",
          "exception": false,
          "start_time": "2023-06-11T13:33:21.825174",
          "status": "completed"
        },
        "tags": [],
        "id": "3e8b829b",
        "colab": {
          "base_uri": "https://localhost:8080/"
        },
        "outputId": "14e5eb31-97e5-4697-fdd3-9c30f160b62f"
      },
      "execution_count": null,
      "outputs": [
        {
          "output_type": "stream",
          "name": "stderr",
          "text": "100%|██████████| 70/70 [14:21<00:00, 12.31s/it]"
        },
        {
          "output_type": "stream",
          "name": "stdout",
          "text": "(568, 48, 225)\n\n(568, 70)\n"
        },
        {
          "output_type": "stream",
          "name": "stderr",
          "text": "\n"
        }
      ]
    },
    {
      "cell_type": "markdown",
      "source": [
        "# **7.Build Bidirectional LSTM model**"
      ],
      "metadata": {
        "id": "_ayteTjj07Yz"
      }
    },
    {
      "cell_type": "code",
      "source": [
        "# Define the Bidirectional LSTM model with Attention\n",
        "\n",
        "\n",
        "model2 = tf.keras.Sequential([\n",
        "    tf.keras.layers.Bidirectional(tf.keras.layers.LSTM(64, return_sequences=True)),\n",
        "    tf.keras.layers.Bidirectional(tf.keras.layers.LSTM(64)),\n",
        "    tf.keras.layers.Dense(32, activation='relu'),\n",
        "    tf.keras.layers.Dense(len(words2), activation='softmax')\n",
        "])\n",
        "\n",
        "# Compile the model\n",
        "\n",
        "model2.compile(optimizer='adam', loss='categorical_crossentropy', metrics=['categorical_accuracy'])\n",
        "\n",
        "# Set up early stopping\n",
        "early_stopping = tf.keras.callbacks.EarlyStopping(\n",
        "    monitor='val_loss',  # Metric to monitor for early stopping\n",
        "    mode='min',  # Set mode to 'min' for minimizing the metric\n",
        "    patience=5,  # Number of epochs with no improvement before stopping\n",
        "    restore_best_weights=True,  # Restore the best model weights\n",
        "    verbose=1\n",
        ")"
      ],
      "metadata": {
        "id": "BSf2aslpLRHD"
      },
      "execution_count": null,
      "outputs": []
    },
    {
      "cell_type": "code",
      "source": [
        "model_training_history = model2.fit(X_train, y_train, batch_size=32,\n",
        "                                   validation_data=(X_val,y_val), validation_batch_size=32, epochs=50, callbacks=[early_stopping])\n"
      ],
      "metadata": {
        "id": "M_qC09H8LRMj",
        "colab": {
          "base_uri": "https://localhost:8080/"
        },
        "outputId": "1bb6b067-7d4d-4f78-eb19-039a79d0a07b"
      },
      "execution_count": null,
      "outputs": [
        {
          "output_type": "stream",
          "name": "stdout",
          "text": "Epoch 1/50\n\n75/75 [==============================] - 28s 198ms/step - loss: 4.1773 - categorical_accuracy: 0.0230 - val_loss: 4.0260 - val_categorical_accuracy: 0.0485\n\nEpoch 2/50\n\n75/75 [==============================] - 13s 170ms/step - loss: 3.6909 - categorical_accuracy: 0.0892 - val_loss: 3.3424 - val_categorical_accuracy: 0.1070\n\nEpoch 3/50\n\n75/75 [==============================] - 11s 153ms/step - loss: 3.0634 - categorical_accuracy: 0.1750 - val_loss: 2.8869 - val_categorical_accuracy: 0.2207\n\nEpoch 4/50\n\n75/75 [==============================] - 12s 160ms/step - loss: 2.6077 - categorical_accuracy: 0.2436 - val_loss: 2.4773 - val_categorical_accuracy: 0.2742\n\nEpoch 5/50\n\n75/75 [==============================] - 13s 168ms/step - loss: 2.2139 - categorical_accuracy: 0.3127 - val_loss: 2.1057 - val_categorical_accuracy: 0.3378\n\nEpoch 6/50\n\n75/75 [==============================] - 13s 175ms/step - loss: 2.0314 - categorical_accuracy: 0.3763 - val_loss: 2.0194 - val_categorical_accuracy: 0.3411\n\nEpoch 7/50\n\n75/75 [==============================] - 13s 176ms/step - loss: 1.6977 - categorical_accuracy: 0.4600 - val_loss: 1.7529 - val_categorical_accuracy: 0.4348\n\nEpoch 8/50\n\n75/75 [==============================] - 13s 176ms/step - loss: 1.6164 - categorical_accuracy: 0.4881 - val_loss: 1.5933 - val_categorical_accuracy: 0.4732\n\nEpoch 9/50\n\n75/75 [==============================] - 13s 174ms/step - loss: 1.3309 - categorical_accuracy: 0.5827 - val_loss: 1.4072 - val_categorical_accuracy: 0.5385\n\nEpoch 10/50\n\n75/75 [==============================] - 13s 175ms/step - loss: 1.2322 - categorical_accuracy: 0.5944 - val_loss: 1.2258 - val_categorical_accuracy: 0.6054\n\nEpoch 11/50\n\n75/75 [==============================] - 14s 182ms/step - loss: 1.1570 - categorical_accuracy: 0.6237 - val_loss: 1.1858 - val_categorical_accuracy: 0.6104\n\nEpoch 12/50\n\n75/75 [==============================] - 13s 173ms/step - loss: 0.9222 - categorical_accuracy: 0.7074 - val_loss: 1.0147 - val_categorical_accuracy: 0.6639\n\nEpoch 13/50\n\n75/75 [==============================] - 12s 165ms/step - loss: 1.0136 - categorical_accuracy: 0.6672 - val_loss: 1.0041 - val_categorical_accuracy: 0.6756\n\nEpoch 14/50\n\n75/75 [==============================] - 16s 214ms/step - loss: 0.8347 - categorical_accuracy: 0.7221 - val_loss: 0.8620 - val_categorical_accuracy: 0.7157\n\nEpoch 15/50\n\n75/75 [==============================] - 12s 165ms/step - loss: 0.6787 - categorical_accuracy: 0.7765 - val_loss: 0.7284 - val_categorical_accuracy: 0.7559\n\nEpoch 16/50\n\n75/75 [==============================] - 11s 146ms/step - loss: 0.6743 - categorical_accuracy: 0.7639 - val_loss: 0.7728 - val_categorical_accuracy: 0.7224\n\nEpoch 17/50\n\n75/75 [==============================] - 13s 169ms/step - loss: 0.6481 - categorical_accuracy: 0.7828 - val_loss: 0.6838 - val_categorical_accuracy: 0.7676\n\nEpoch 18/50\n\n75/75 [==============================] - 13s 179ms/step - loss: 0.5799 - categorical_accuracy: 0.8091 - val_loss: 0.6109 - val_categorical_accuracy: 0.7977\n\nEpoch 19/50\n\n75/75 [==============================] - 13s 176ms/step - loss: 0.4967 - categorical_accuracy: 0.8321 - val_loss: 0.4969 - val_categorical_accuracy: 0.8478\n\nEpoch 20/50\n\n75/75 [==============================] - 13s 175ms/step - loss: 0.4894 - categorical_accuracy: 0.8372 - val_loss: 0.7559 - val_categorical_accuracy: 0.7559\n\nEpoch 21/50\n\n75/75 [==============================] - 13s 175ms/step - loss: 0.5805 - categorical_accuracy: 0.8020 - val_loss: 0.5008 - val_categorical_accuracy: 0.8194\n\nEpoch 22/50\n\n75/75 [==============================] - 13s 175ms/step - loss: 0.4129 - categorical_accuracy: 0.8619 - val_loss: 0.6440 - val_categorical_accuracy: 0.7893\n\nEpoch 23/50\n\n75/75 [==============================] - 13s 176ms/step - loss: 0.3531 - categorical_accuracy: 0.8820 - val_loss: 0.4296 - val_categorical_accuracy: 0.8629\n\nEpoch 24/50\n\n75/75 [==============================] - 14s 183ms/step - loss: 0.4085 - categorical_accuracy: 0.8723 - val_loss: 0.3673 - val_categorical_accuracy: 0.8679\n\nEpoch 25/50\n\n75/75 [==============================] - 12s 160ms/step - loss: 0.2764 - categorical_accuracy: 0.9062 - val_loss: 0.3029 - val_categorical_accuracy: 0.8997\n\nEpoch 26/50\n\n75/75 [==============================] - 12s 153ms/step - loss: 0.3107 - categorical_accuracy: 0.9008 - val_loss: 0.7314 - val_categorical_accuracy: 0.7659\n\nEpoch 27/50\n\n75/75 [==============================] - 13s 169ms/step - loss: 0.4550 - categorical_accuracy: 0.8472 - val_loss: 0.4846 - val_categorical_accuracy: 0.8344\n\nEpoch 28/50\n\n75/75 [==============================] - 15s 203ms/step - loss: 0.3328 - categorical_accuracy: 0.8861 - val_loss: 0.2953 - val_categorical_accuracy: 0.8980\n\nEpoch 29/50\n\n75/75 [==============================] - 13s 175ms/step - loss: 0.8622 - categorical_accuracy: 0.7346 - val_loss: 0.6906 - val_categorical_accuracy: 0.7609\n\nEpoch 30/50\n\n75/75 [==============================] - 13s 175ms/step - loss: 0.4309 - categorical_accuracy: 0.8669 - val_loss: 0.4337 - val_categorical_accuracy: 0.8495\n\nEpoch 31/50\n\n75/75 [==============================] - 13s 174ms/step - loss: 0.2747 - categorical_accuracy: 0.9163 - val_loss: 0.2769 - val_categorical_accuracy: 0.9047\n\nEpoch 32/50\n\n75/75 [==============================] - 13s 174ms/step - loss: 0.3110 - categorical_accuracy: 0.8983 - val_loss: 0.3528 - val_categorical_accuracy: 0.8696\n\nEpoch 33/50\n\n75/75 [==============================] - 13s 169ms/step - loss: 0.2058 - categorical_accuracy: 0.9360 - val_loss: 0.2511 - val_categorical_accuracy: 0.9047\n\nEpoch 34/50\n\n75/75 [==============================] - 13s 169ms/step - loss: 0.1714 - categorical_accuracy: 0.9527 - val_loss: 0.1880 - val_categorical_accuracy: 0.9264\n\nEpoch 35/50\n\n75/75 [==============================] - 12s 165ms/step - loss: 0.1455 - categorical_accuracy: 0.9615 - val_loss: 0.2603 - val_categorical_accuracy: 0.9080\n\nEpoch 36/50\n\n75/75 [==============================] - 11s 150ms/step - loss: 0.3123 - categorical_accuracy: 0.9004 - val_loss: 0.4224 - val_categorical_accuracy: 0.8395\n\nEpoch 37/50\n\n75/75 [==============================] - 13s 171ms/step - loss: 0.2081 - categorical_accuracy: 0.9343 - val_loss: 0.3953 - val_categorical_accuracy: 0.8746\n\nEpoch 38/50\n\n75/75 [==============================] - 13s 174ms/step - loss: 0.2034 - categorical_accuracy: 0.9347 - val_loss: 0.2770 - val_categorical_accuracy: 0.9047\n\nEpoch 39/50\n\n75/75 [==============================] - ETA: 0s - loss: 0.2432 - categorical_accuracy: 0.9175Restoring model weights from the end of the best epoch: 34.\n\n75/75 [==============================] - 13s 176ms/step - loss: 0.2432 - categorical_accuracy: 0.9175 - val_loss: 0.3803 - val_categorical_accuracy: 0.8746\n\nEpoch 39: early stopping\n"
        }
      ]
    },
    {
      "cell_type": "code",
      "source": [
        "model2.summary()"
      ],
      "metadata": {
        "id": "dbAufWF8vFWm",
        "colab": {
          "base_uri": "https://localhost:8080/"
        },
        "outputId": "aabbfaee-eaa9-4311-ecd4-1240ab878e7a"
      },
      "execution_count": null,
      "outputs": [
        {
          "output_type": "stream",
          "name": "stdout",
          "text": "Model: \"sequential\"\n\n_________________________________________________________________\n\n Layer (type)                Output Shape              Param #   \n\n=================================================================\n\n bidirectional_2 (Bidirecti  (None, 48, 128)           148480    \n\n onal)                                                           \n\n                                                                 \n\n bidirectional_3 (Bidirecti  (None, 128)               98816     \n\n onal)                                                           \n\n                                                                 \n\n dense_1 (Dense)             (None, 32)                4128      \n\n                                                                 \n\n dense_2 (Dense)             (None, 70)                2310      \n\n                                                                 \n\n=================================================================\n\nTotal params: 253734 (991.15 KB)\n\nTrainable params: 253734 (991.15 KB)\n\nNon-trainable params: 0 (0.00 Byte)\n\n_________________________________________________________________\n"
        }
      ]
    },
    {
      "cell_type": "markdown",
      "source": [
        "# **8.Model Evalution**"
      ],
      "metadata": {
        "id": "0fkpD6Usd_t9"
      }
    },
    {
      "cell_type": "code",
      "source": [
        "# Evaluate the model on train data\n",
        "model_evaluation_history = model2.evaluate(X_train, y_train)"
      ],
      "metadata": {
        "id": "Hw8JAEaT6lTO",
        "colab": {
          "base_uri": "https://localhost:8080/"
        },
        "outputId": "9615ab5e-8daf-411f-8e63-1ca2f21447ae"
      },
      "execution_count": null,
      "outputs": [
        {
          "output_type": "stream",
          "name": "stdout",
          "text": "75/75 [==============================] - 3s 46ms/step - loss: 0.1264 - categorical_accuracy: 0.9644\n"
        }
      ]
    },
    {
      "cell_type": "code",
      "source": [
        "# Evaluate the model on test data\n",
        "model_evaluation_history = model2.evaluate(X_test, y_test)"
      ],
      "metadata": {
        "id": "gsw9CthC6le-",
        "colab": {
          "base_uri": "https://localhost:8080/"
        },
        "outputId": "35f7e2ef-de4b-4085-c88b-f92da2d737be"
      },
      "execution_count": null,
      "outputs": [
        {
          "output_type": "stream",
          "name": "stdout",
          "text": "18/18 [==============================] - 1s 62ms/step - loss: 0.2202 - categorical_accuracy: 0.9225\n"
        }
      ]
    },
    {
      "cell_type": "code",
      "source": [
        "def plot_metric(model_training_history, metric_name_1, metric_name_2, plot_name):\n",
        "    '''\n",
        "    This function will plot the metrics passed to it in a graph.\n",
        "    Args:\n",
        "        model_training_history: A history object containing a record of training and validation\n",
        "                                loss values and metrics values at successive epochs\n",
        "        metric_name_1:          The name of the first metric that needs to be plotted in the graph.\n",
        "        metric_name_2:          The name of the second metric that needs to be plotted in the graph.\n",
        "        plot_name:              The title of the graph.\n",
        "    '''\n",
        "\n",
        "    # Get metric values using metric names as identifiers.\n",
        "    metric_value_1 = model_training_history.history[metric_name_1]\n",
        "    metric_value_2 = model_training_history.history[metric_name_2]\n",
        "\n",
        "    # Construct a range object which will be used as x-axis (horizontal plane) of the graph.\n",
        "    epochs = range(len(metric_value_1))\n",
        "\n",
        "    # Plot the Graph.\n",
        "    plt.plot(epochs, metric_value_1, 'blue', label = metric_name_1)\n",
        "    plt.plot(epochs, metric_value_2, 'red', label = metric_name_2)\n",
        "\n",
        "    # Add title to the plot.\n",
        "    plt.title(str(plot_name))\n",
        "\n",
        "    # Add legend to the plot.\n",
        "    plt.legend()"
      ],
      "metadata": {
        "id": "9pNBmx2T6lh4"
      },
      "execution_count": null,
      "outputs": []
    },
    {
      "cell_type": "code",
      "source": [
        "# Visualize the training and validation loss metrices.\n",
        "plot_metric(model_training_history, 'loss', 'val_loss', 'Total Loss vs Total Validation Loss')"
      ],
      "metadata": {
        "id": "O5xj1hWKwTnF",
        "colab": {
          "base_uri": "https://localhost:8080/",
          "height": 452
        },
        "outputId": "b319eb51-83d6-49b1-e733-5723a08d4732"
      },
      "execution_count": null,
      "outputs": [
        {
          "output_type": "display_data",
          "data": {
            "text/plain": [
              "<Figure size 640x480 with 1 Axes>"
            ],
            "image/png": "[encoded data removed]"
          },
          "metadata": {}
        }
      ]
    },
    {
      "cell_type": "code",
      "source": [
        "# Visualize the training and validation accuracy metrices.\n",
        "plot_metric(model_training_history, 'categorical_accuracy', 'val_categorical_accuracy', 'Total Accuracy vs Total Validation Accuracy')"
      ],
      "metadata": {
        "id": "IMP5sOrgwTpT",
        "colab": {
          "base_uri": "https://localhost:8080/",
          "height": 452
        },
        "outputId": "3247898b-a041-49c3-eaa0-39ee1691399d"
      },
      "execution_count": null,
      "outputs": [
        {
          "output_type": "display_data",
          "data": {
            "text/plain": [
              "<Figure size 640x480 with 1 Axes>"
            ],
            "image/png": "[encoded data removed]"
          },
          "metadata": {}
        }
      ]
    },
    {
      "cell_type": "code",
      "source": [
        "# Get predictions on test data\n",
        "y_pred = model2.predict(X_test)\n",
        "y_pred_classes = np.argmax(y_pred, axis=1)\n",
        "y_true_classes = np.argmax(y_test, axis=1)\n"
      ],
      "metadata": {
        "id": "NEAfLjyaxAkr",
        "colab": {
          "base_uri": "https://localhost:8080/"
        },
        "outputId": "10823ed0-9243-4f8e-d521-97bc38d2cb61"
      },
      "execution_count": null,
      "outputs": [
        {
          "output_type": "stream",
          "name": "stdout",
          "text": "18/18 [==============================] - 1s 79ms/step\n"
        }
      ]
    },
    {
      "cell_type": "code",
      "source": [
        "# Classification Report\n",
        "print(\"Classification Report:\")\n",
        "print(classification_report(y_true_classes, y_pred_classes))"
      ],
      "metadata": {
        "id": "ccEqva22wT2r",
        "colab": {
          "base_uri": "https://localhost:8080/"
        },
        "outputId": "1380dddd-6101-42ff-ba72-46ca65ed0ed0"
      },
      "execution_count": null,
      "outputs": [
        {
          "output_type": "stream",
          "name": "stdout",
          "text": "Classification Report:\n\n              precision    recall  f1-score   support\n\n\n\n           0       1.00      1.00      1.00         8\n\n           1       1.00      0.88      0.93         8\n\n           2       1.00      0.88      0.93         8\n\n           3       1.00      0.75      0.86         8\n\n           4       1.00      1.00      1.00        15\n\n           5       0.00      0.00      0.00         1\n\n           6       1.00      1.00      1.00         8\n\n           7       1.00      1.00      1.00         8\n\n           8       1.00      1.00      1.00         8\n\n           9       1.00      1.00      1.00         8\n\n          10       1.00      1.00      1.00         8\n\n          11       0.86      0.75      0.80         8\n\n          12       0.78      0.88      0.82         8\n\n          13       0.88      0.88      0.88         8\n\n          14       0.88      0.88      0.88         8\n\n          15       1.00      1.00      1.00         8\n\n          16       1.00      0.75      0.86         8\n\n          17       0.67      1.00      0.80         8\n\n          18       1.00      0.75      0.86         8\n\n          19       1.00      1.00      1.00         8\n\n          20       1.00      1.00      1.00         8\n\n          21       0.89      1.00      0.94         8\n\n          22       1.00      0.75      0.86         8\n\n          23       0.64      0.88      0.74         8\n\n          24       1.00      0.88      0.93         8\n\n          25       1.00      1.00      1.00         8\n\n          26       1.00      0.50      0.67        16\n\n          27       0.39      0.88      0.54         8\n\n          28       1.00      1.00      1.00         8\n\n          29       1.00      1.00      1.00         8\n\n          30       1.00      1.00      1.00         8\n\n          31       1.00      1.00      1.00         8\n\n          32       0.88      0.88      0.88         8\n\n          33       1.00      1.00      1.00         8\n\n          34       1.00      1.00      1.00         8\n\n          35       1.00      0.75      0.86         8\n\n          36       0.88      0.88      0.88         8\n\n          37       0.70      0.88      0.78         8\n\n          38       0.86      0.75      0.80         8\n\n          39       0.80      1.00      0.89         8\n\n          40       1.00      0.62      0.77         8\n\n          41       1.00      1.00      1.00         8\n\n          42       0.73      1.00      0.84         8\n\n          43       1.00      1.00      1.00         8\n\n          44       0.89      1.00      0.94         8\n\n          45       1.00      0.88      0.93         8\n\n          46       0.80      1.00      0.89         8\n\n          47       1.00      1.00      1.00         8\n\n          48       1.00      1.00      1.00         8\n\n          49       1.00      1.00      1.00         8\n\n          50       1.00      0.88      0.93         8\n\n          51       0.80      1.00      0.89         8\n\n          52       0.86      0.75      0.80         8\n\n          53       1.00      1.00      1.00         8\n\n          54       0.89      1.00      0.94         8\n\n          55       1.00      0.88      0.93         8\n\n          56       1.00      0.75      0.86         8\n\n          57       1.00      1.00      1.00         8\n\n          58       1.00      1.00      1.00         8\n\n          59       1.00      1.00      1.00         8\n\n          60       1.00      1.00      1.00         8\n\n          61       1.00      1.00      1.00         8\n\n          62       1.00      1.00      1.00         8\n\n          63       0.89      1.00      0.94         8\n\n          64       1.00      1.00      1.00         8\n\n          65       1.00      1.00      1.00         8\n\n          66       1.00      1.00      1.00         8\n\n          67       1.00      1.00      1.00         8\n\n          68       1.00      1.00      1.00         8\n\n          69       1.00      1.00      1.00         8\n\n\n\n    accuracy                           0.92       568\n\n   macro avg       0.93      0.92      0.91       568\n\nweighted avg       0.94      0.92      0.92       568\n\n\n"
        },
        {
          "output_type": "stream",
          "name": "stderr",
          "text": "/usr/local/lib/python3.10/dist-packages/sklearn/metrics/_classification.py:1344: UndefinedMetricWarning: Precision and F-score are ill-defined and being set to 0.0 in labels with no predicted samples. Use `zero_division` parameter to control this behavior.\n\n  _warn_prf(average, modifier, msg_start, len(result))\n\n/usr/local/lib/python3.10/dist-packages/sklearn/metrics/_classification.py:1344: UndefinedMetricWarning: Precision and F-score are ill-defined and being set to 0.0 in labels with no predicted samples. Use `zero_division` parameter to control this behavior.\n\n  _warn_prf(average, modifier, msg_start, len(result))\n\n/usr/local/lib/python3.10/dist-packages/sklearn/metrics/_classification.py:1344: UndefinedMetricWarning: Precision and F-score are ill-defined and being set to 0.0 in labels with no predicted samples. Use `zero_division` parameter to control this behavior.\n\n  _warn_prf(average, modifier, msg_start, len(result))\n"
        }
      ]
    },
    {
      "cell_type": "code",
      "source": [
        "# Select the last 20 classes\n",
        "start_index = len(words2) - 20\n",
        "cm_subset = cm[start_index:, start_index:]\n",
        "\n",
        "# Define the class labels\n",
        "class_labels = words2[start_index:]\n",
        "\n",
        "# Create a figure and axis\n",
        "plt.figure(figsize=(10, 8))\n",
        "ax = sns.heatmap(cm_subset, annot=True, fmt='d', cmap='Blues')\n",
        "\n",
        "# Set the axis labels and title\n",
        "ax.set_xlabel('Predicted Labels')\n",
        "ax.set_ylabel('True Labels')\n",
        "ax.set_title('Confusion Matrix for Last 20 Classes')\n",
        "\n",
        "# Set the x and y tick labels\n",
        "ax.set_xticklabels(class_labels, rotation=90)\n",
        "ax.set_yticklabels(class_labels, rotation=0)\n",
        "\n",
        "# Show the plot\n",
        "plt.show()"
      ],
      "metadata": {
        "id": "ofTjCoCXVKn8",
        "colab": {
          "base_uri": "https://localhost:8080/",
          "height": 719
        },
        "outputId": "9ff1b2c0-a052-457c-98ca-2b600c31513f"
      },
      "execution_count": null,
      "outputs": [
        {
          "output_type": "display_data",
          "data": {
            "text/plain": [
              "<Figure size 1000x800 with 2 Axes>"
            ],
            "image/png": "[encoded data removed]"
          },
          "metadata": {}
        }
      ]
    },
    {
      "cell_type": "markdown",
      "source": [
        "# **9.Make Predictions**"
      ],
      "metadata": {
        "id": "g52nwYyu1UNB"
      }
    },
    {
      "cell_type": "code",
      "source": [
        "#Predicted sign\n",
        "res = model2.predict(X_test)\n",
        "words2[np.argmax(res[1])]"
      ],
      "metadata": {
        "id": "YtXg4ctvwTso",
        "colab": {
          "base_uri": "https://localhost:8080/",
          "height": 54
        },
        "outputId": "52038abb-f6b7-4009-dd79-d98628274748"
      },
      "execution_count": null,
      "outputs": [
        {
          "output_type": "stream",
          "name": "stdout",
          "text": "18/18 [==============================] - 5s 136ms/step\n"
        },
        {
          "output_type": "execute_result",
          "execution_count": 33,
          "data": {
            "text/plain": [
              "'0'"
            ],
            "application/vnd.google.colaboratory.intrinsic+json": {
              "type": "string"
            }
          },
          "metadata": {}
        }
      ]
    },
    {
      "cell_type": "code",
      "source": [
        "#Real sign\n",
        "words2[np.argmax(y_test[1])]"
      ],
      "metadata": {
        "id": "_gJKVTXfwTu-",
        "colab": {
          "base_uri": "https://localhost:8080/",
          "height": 36
        },
        "outputId": "7eaf3dbf-99a5-44ae-822b-a06265a33bd8"
      },
      "execution_count": null,
      "outputs": [
        {
          "output_type": "execute_result",
          "execution_count": 34,
          "data": {
            "text/plain": [
              "'0'"
            ],
            "application/vnd.google.colaboratory.intrinsic+json": {
              "type": "string"
            }
          },
          "metadata": {}
        }
      ]
    },
    {
      "cell_type": "code",
      "source": [
        "#Predicted sign\n",
        "res = model2.predict(X_test)\n",
        "words2[np.argmax(res[70])]"
      ],
      "metadata": {
        "id": "a1DRC5tqwTyk",
        "colab": {
          "base_uri": "https://localhost:8080/",
          "height": 54
        },
        "outputId": "d26b33c7-8469-4d8d-b5f0-af12c27c74ce"
      },
      "execution_count": null,
      "outputs": [
        {
          "output_type": "stream",
          "name": "stdout",
          "text": "18/18 [==============================] - 1s 42ms/step\n"
        },
        {
          "output_type": "execute_result",
          "execution_count": 35,
          "data": {
            "text/plain": [
              "'8'"
            ],
            "application/vnd.google.colaboratory.intrinsic+json": {
              "type": "string"
            }
          },
          "metadata": {}
        }
      ]
    },
    {
      "cell_type": "code",
      "source": [
        "#Real sign\n",
        "words2[np.argmax(y_test[70])]"
      ],
      "metadata": {
        "id": "-KW8bnhbxAhy",
        "colab": {
          "base_uri": "https://localhost:8080/",
          "height": 36
        },
        "outputId": "54fa47a3-7854-4511-9a44-760e86199181"
      },
      "execution_count": null,
      "outputs": [
        {
          "output_type": "execute_result",
          "execution_count": 36,
          "data": {
            "text/plain": [
              "'8'"
            ],
            "application/vnd.google.colaboratory.intrinsic+json": {
              "type": "string"
            }
          },
          "metadata": {}
        }
      ]
    },
    {
      "cell_type": "markdown",
      "source": [
        "# **10. Save Model**"
      ],
      "metadata": {
        "id": "bnf1O1cYzHaV"
      }
    },
    {
      "cell_type": "code",
      "source": [
        "model2.save('modeletter92%.h5')"
      ],
      "metadata": {
        "id": "k3i-5bZBfyQe",
        "colab": {
          "base_uri": "https://localhost:8080/"
        },
        "outputId": "a989d5c1-33f3-4dec-bf30-6ef622bec013"
      },
      "execution_count": null,
      "outputs": [
        {
          "output_type": "stream",
          "name": "stderr",
          "text": "/usr/local/lib/python3.10/dist-packages/keras/src/engine/training.py:3103: UserWarning: You are saving your model as an HDF5 file via `model.save()`. This file format is considered legacy. We recommend using instead the native Keras format, e.g. `model.save('my_model.keras')`.\n\n  saving_api.save_model(\n"
        }
      ]
    }
  ]
}